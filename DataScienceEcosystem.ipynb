{
 "cells": [
  {
   "cell_type": "markdown",
   "id": "08480875",
   "metadata": {},
   "source": [
    "#Data Science Tools and Ecosystem"
   ]
  },
  {
   "cell_type": "markdown",
   "id": "a8802cb8",
   "metadata": {},
   "source": [
    "In this notebook, Data Science Tools and Ecosystem are summarized.\n"
   ]
  },
  {
   "cell_type": "markdown",
   "id": "22b12b2f",
   "metadata": {},
   "source": [
    "|_Objectives:_|\n",
    "|------|\n",
    "* List popular languages for Data Science.\n",
    "* List commonly used libraries by Data Science.\n",
    "* Data science tools."
   ]
  },
  {
   "cell_type": "markdown",
   "id": "ae8b5099",
   "metadata": {},
   "source": [
    "Some of the popular languages that Data Scientists use are:"
   ]
  },
  {
   "cell_type": "markdown",
   "id": "9ea1fce8",
   "metadata": {},
   "source": [
    "1. Python\n",
    "2. R\n",
    "3. Java"
   ]
  },
  {
   "cell_type": "markdown",
   "id": "1cb84754",
   "metadata": {},
   "source": [
    "Some of the commonly used libraries used by Data Scientists include:"
   ]
  },
  {
   "cell_type": "markdown",
   "id": "bf63bb66",
   "metadata": {},
   "source": [
    "1. NumPy\n",
    "2. TensorFlow\n",
    "3. SciPy"
   ]
  },
  {
   "cell_type": "markdown",
   "id": "3138930d",
   "metadata": {},
   "source": [
    "|Data Science Tools |\n",
    "|-------|\n",
    "|Visual Studio Code |\n",
    "|Gitlab |\n",
    "|jupyterlab |"
   ]
  },
  {
   "cell_type": "markdown",
   "id": "d76f88d7",
   "metadata": {},
   "source": [
    "|###Below are a few examples of evaluating arithmetic expressions in Python|\n",
    "|-------|\n"
   ]
  },
  {
   "cell_type": "code",
   "execution_count": 1,
   "id": "946c3b73",
   "metadata": {},
   "outputs": [
    {
     "data": {
      "text/plain": [
       "17"
      ]
     },
     "execution_count": 1,
     "metadata": {},
     "output_type": "execute_result"
    }
   ],
   "source": [
    "#This a simple arithmetic expression to mutiply then add integers\n",
    "(3*4)+5"
   ]
  },
  {
   "cell_type": "code",
   "execution_count": 2,
   "id": "9ff75137",
   "metadata": {},
   "outputs": [
    {
     "data": {
      "text/plain": [
       "3.3333333333333335"
      ]
     },
     "execution_count": 2,
     "metadata": {},
     "output_type": "execute_result"
    }
   ],
   "source": [
    "#This will convert 200 minutes to hours by diving by 60.\n",
    "(200/60)"
   ]
  },
  {
   "cell_type": "markdown",
   "id": "289a553c",
   "metadata": {},
   "source": [
    "##Author\n",
    "\n",
    "Vysakh B"
   ]
  },
  {
   "cell_type": "markdown",
   "id": "6410780a",
   "metadata": {},
   "source": []
  }
 ],
 "metadata": {
  "kernelspec": {
   "display_name": "Python 3 (ipykernel)",
   "language": "python",
   "name": "python3"
  },
  "language_info": {
   "codemirror_mode": {
    "name": "ipython",
    "version": 3
   },
   "file_extension": ".py",
   "mimetype": "text/x-python",
   "name": "python",
   "nbconvert_exporter": "python",
   "pygments_lexer": "ipython3",
   "version": "3.11.4"
  }
 },
 "nbformat": 4,
 "nbformat_minor": 5
}
